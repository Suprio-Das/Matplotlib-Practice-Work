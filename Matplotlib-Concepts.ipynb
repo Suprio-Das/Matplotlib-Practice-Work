{
 "cells": [
  {
   "cell_type": "markdown",
   "id": "e5b5347a-3c4b-49fc-b0ff-ae07a38c2c4e",
   "metadata": {},
   "source": [
    "# Import Matplotlib and Numpy"
   ]
  },
  {
   "cell_type": "code",
   "execution_count": 47,
   "id": "296b72a2-7d83-4f02-86b5-6f794dc55d01",
   "metadata": {},
   "outputs": [],
   "source": [
    "import matplotlib.pyplot as plt\n",
    "import numpy as np"
   ]
  },
  {
   "cell_type": "markdown",
   "id": "43a4dc93-7f43-4f6b-98a4-1f41f9020afa",
   "metadata": {},
   "source": [
    "# Creating Simple data"
   ]
  },
  {
   "cell_type": "code",
   "execution_count": 54,
   "id": "e25f18ee-8836-4e53-a035-e08833385e02",
   "metadata": {},
   "outputs": [
    {
     "data": {
      "text/plain": [
       "array([0. , 0.5, 1. , 1.5, 2. , 2.5, 3. , 3.5, 4. , 4.5, 5. ])"
      ]
     },
     "execution_count": 54,
     "metadata": {},
     "output_type": "execute_result"
    }
   ],
   "source": [
    "# X-axis Data using Linspace\n",
    "x = np.linspace(0, 5, 11)\n",
    "x"
   ]
  },
  {
   "cell_type": "code",
   "execution_count": 56,
   "id": "f1270f4e-6ce6-4450-b9bf-f03b2fc218e2",
   "metadata": {},
   "outputs": [
    {
     "data": {
      "text/plain": [
       "array([ 0.  ,  0.25,  1.  ,  2.25,  4.  ,  6.25,  9.  , 12.25, 16.  ,\n",
       "       20.25, 25.  ])"
      ]
     },
     "execution_count": 56,
     "metadata": {},
     "output_type": "execute_result"
    }
   ],
   "source": [
    "# Y-axis Data by squaring the x \n",
    "y = x ** 2\n",
    "y"
   ]
  }
 ],
 "metadata": {
  "kernelspec": {
   "display_name": "Python [conda env:base] *",
   "language": "python",
   "name": "conda-base-py"
  },
  "language_info": {
   "codemirror_mode": {
    "name": "ipython",
    "version": 3
   },
   "file_extension": ".py",
   "mimetype": "text/x-python",
   "name": "python",
   "nbconvert_exporter": "python",
   "pygments_lexer": "ipython3",
   "version": "3.12.7"
  }
 },
 "nbformat": 4,
 "nbformat_minor": 5
}
