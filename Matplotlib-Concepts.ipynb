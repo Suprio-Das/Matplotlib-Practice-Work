{
 "cells": [
  {
   "cell_type": "markdown",
   "id": "e5b5347a-3c4b-49fc-b0ff-ae07a38c2c4e",
   "metadata": {},
   "source": [
    "# Import Matplotlib and Numpy"
   ]
  },
  {
   "cell_type": "code",
   "execution_count": 47,
   "id": "296b72a2-7d83-4f02-86b5-6f794dc55d01",
   "metadata": {},
   "outputs": [],
   "source": [
    "import matplotlib.pyplot as plt\n",
    "import numpy as np"
   ]
  }
 ],
 "metadata": {
  "kernelspec": {
   "display_name": "Python [conda env:base] *",
   "language": "python",
   "name": "conda-base-py"
  },
  "language_info": {
   "codemirror_mode": {
    "name": "ipython",
    "version": 3
   },
   "file_extension": ".py",
   "mimetype": "text/x-python",
   "name": "python",
   "nbconvert_exporter": "python",
   "pygments_lexer": "ipython3",
   "version": "3.12.7"
  }
 },
 "nbformat": 4,
 "nbformat_minor": 5
}
